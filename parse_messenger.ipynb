{
 "cells": [
  {
   "cell_type": "markdown",
   "id": "cbbc6546",
   "metadata": {},
   "source": [
    "## Parse Messenger inbox"
   ]
  },
  {
   "cell_type": "code",
   "execution_count": null,
   "id": "c143098f",
   "metadata": {},
   "outputs": [],
   "source": [
    "from datetime import datetime\n",
    "import glob\n",
    "import json"
   ]
  },
  {
   "cell_type": "code",
   "execution_count": null,
   "id": "db9cea2b",
   "metadata": {},
   "outputs": [],
   "source": [
    "chats = glob.glob(\"facebook-jasoncbenn/messages/inbox/*/*.json\")"
   ]
  },
  {
   "cell_type": "code",
   "execution_count": null,
   "id": "c8c09da8",
   "metadata": {
    "scrolled": true
   },
   "outputs": [],
   "source": [
    "from datetime import timedelta\n",
    "import unidecode\n",
    "from collections import defaultdict\n",
    "\n",
    "MY_NAME = 'Jason Benn'\n",
    "\n",
    "interactions = defaultdict(lambda: {'interaction_days': set()})\n",
    "\n",
    "def parse_datetime(dt: int) -> datetime:\n",
    "    return datetime.fromtimestamp(dt / 1e3)\n",
    "\n",
    "for chat_json_path in chats:\n",
    "    with open(chat_json_path, encoding='raw_unicode_escape') as f:\n",
    "        chat = json.loads(f.read().encode('raw_unicode_escape').decode())\n",
    "\n",
    "    others = [x['name'] for x in chat['participants'] if x['name'] != MY_NAME]\n",
    "\n",
    "    my_messages = [x for x in chat['messages'] if x['sender_name'] == MY_NAME]\n",
    "\n",
    "    if not len(my_messages):\n",
    "        continue \n",
    "\n",
    "    last_message_time = None\n",
    "\n",
    "    is_groupchat = len(others) > 1\n",
    "\n",
    "    if is_groupchat:\n",
    "        # Creative technique: anytime I message the group, I get \"credit\" for all messages within 2 days\n",
    "        # Goal is to account for groups where I'm active + others are active - those feel like touches\n",
    "        # But many other groups are too big, too sparse, not mine, etc. Those don't count.\n",
    "        for message in reversed(chat['messages']):\n",
    "            msg_time = parse_datetime(message['timestamp_ms'])\n",
    "            msg_name = unidecode.unidecode(message['sender_name'])\n",
    "            if msg_name == MY_NAME:\n",
    "                last_message_time = msg_time\n",
    "                continue\n",
    "\n",
    "            if last_message_time and last_message_time + timedelta(days=2) > msg_time:\n",
    "                interactions[msg_name]['interaction_days'].add(msg_time.date())\n",
    "\n",
    "    else:\n",
    "        # If this is 1:1, just count every unique day of any message.\n",
    "        for message in chat['messages']:\n",
    "            msg_time = parse_datetime(message['timestamp_ms'])\n",
    "            msg_name = unidecode.unidecode(message['sender_name'])\n",
    "            if msg_name == MY_NAME:\n",
    "                continue\n",
    "            interactions[msg_name]['interaction_days'].add(msg_time.date())"
   ]
  },
  {
   "cell_type": "code",
   "execution_count": null,
   "id": "b77073d0",
   "metadata": {
    "scrolled": true
   },
   "outputs": [],
   "source": [
    "compressed_interactions = {}\n",
    "for name, touches in interactions.items():\n",
    "    compressed_interactions[name] = {'last_interaction': max(touches['interaction_days']), 'num_interaction_days': len(touches['interaction_days'])}\n",
    "\n",
    "sorted(compressed_interactions.items(), key=lambda x: -x[1]['num_interaction_days'])"
   ]
  },
  {
   "cell_type": "markdown",
   "id": "82aaf128",
   "metadata": {},
   "source": [
    "## Send to Notion"
   ]
  },
  {
   "cell_type": "code",
   "execution_count": null,
   "id": "b9ac4eb3",
   "metadata": {},
   "outputs": [],
   "source": [
    "import os\n",
    "from dotenv import load_dotenv\n",
    "\n",
    "load_dotenv()\n",
    "NOTION_SECRET = os.getenv('NOTION_SECRET')\n",
    "DB_ID = os.getenv('DATABASE_ID')"
   ]
  },
  {
   "cell_type": "code",
   "execution_count": null,
   "id": "c8a06751",
   "metadata": {},
   "outputs": [],
   "source": [
    "import requests"
   ]
  },
  {
   "cell_type": "code",
   "execution_count": null,
   "id": "fe418529",
   "metadata": {
    "scrolled": true
   },
   "outputs": [],
   "source": [
    "headers = {'Authorization': f'Bearer {NOTION_SECRET}', 'Notion-Version': '2021-08-16', 'Content-Type': 'application/json'}\n",
    "\n",
    "def get_table_metadata():\n",
    "    response = requests.get(f\"https://api.notion.com/v1/databases/{DB_ID}\", headers=headers)\n",
    "    return json.loads(response.text)\n",
    "# sorted(table_metadata['properties'].keys())"
   ]
  },
  {
   "cell_type": "code",
   "execution_count": null,
   "id": "7685a888",
   "metadata": {
    "scrolled": true
   },
   "outputs": [],
   "source": [
    "from typing import Optional\n",
    "\n",
    "def list_db(cursor: Optional[str]):\n",
    "    data = {\n",
    "      \"sorts\": [\n",
    "        {\n",
    "          \"property\": \"Name\",\n",
    "          \"direction\": \"ascending\"\n",
    "        }\n",
    "      ],\n",
    "      \"page_size\": 100\n",
    "    }\n",
    "    if cursor:\n",
    "        data['start_cursor'] = cursor\n",
    "    response = requests.post(f\"https://api.notion.com/v1/databases/{DB_ID}/query\", headers=headers, data=json.dumps(data))\n",
    "    response.raise_for_status()\n",
    "    return json.loads(response.text)"
   ]
  },
  {
   "cell_type": "code",
   "execution_count": null,
   "id": "f94046d4",
   "metadata": {},
   "outputs": [],
   "source": [
    "def date_iso_format(date):\n",
    "    return datetime.combine(date, datetime.min.time()).isoformat()"
   ]
  },
  {
   "cell_type": "code",
   "execution_count": null,
   "id": "c1e1b132",
   "metadata": {},
   "outputs": [],
   "source": [
    "def patch_page_last_connected(page_id, dt):\n",
    "    data = {'properties': \n",
    "        {\n",
    "         'Last connected': {'date': {'start': date_iso_format(dt), 'end': None}},\n",
    "        }\n",
    "       }\n",
    "    response = requests.patch(f\"https://api.notion.com/v1/pages/{page_id}\", headers=headers, data=json.dumps(data))\n",
    "    response.raise_for_status()\n",
    "    return response"
   ]
  },
  {
   "cell_type": "code",
   "execution_count": null,
   "id": "909461ba",
   "metadata": {},
   "outputs": [],
   "source": [
    "def patch_page_days_interacted_lately(page_id, days_interacted_lately):\n",
    "    data = {'properties': \n",
    "        {\n",
    "          'Days interacted lately': days_interacted_lately\n",
    "        }\n",
    "       }\n",
    "    response = requests.patch(f\"https://api.notion.com/v1/pages/{page_id}\", headers=headers, data=json.dumps(data))\n",
    "    response.raise_for_status()\n",
    "    return response"
   ]
  },
  {
   "cell_type": "code",
   "execution_count": null,
   "id": "4a2012d4",
   "metadata": {},
   "outputs": [],
   "source": [
    "all_pages = []\n",
    "pages = list_db(None)\n",
    "all_pages.extend(pages['results'])\n",
    "\n",
    "while pages['has_more']:\n",
    "    print(pages['next_cursor'])\n",
    "    cursor = pages['next_cursor'] # '8fefddc1-0cb6-4f66-bb07-448073cde34b',\n",
    "    pages = list_db(cursor)\n",
    "    all_pages.extend(pages['results'])\n",
    "\n",
    "print(len(all_pages))"
   ]
  },
  {
   "cell_type": "code",
   "execution_count": null,
   "id": "abcc6945",
   "metadata": {},
   "outputs": [],
   "source": [
    "results_dict = {x['properties']['Name']['title'][0]['text']['content']: x for x in all_pages}"
   ]
  },
  {
   "cell_type": "code",
   "execution_count": null,
   "id": "5db593c9",
   "metadata": {},
   "outputs": [],
   "source": [
    "# for name, interactions in compressed_interactions.items():\n",
    "#     if name in results_dict:\n",
    "#         print(f\"found {name}\")\n",
    "#     else:\n",
    "#         print(f\"nope  {name}\")"
   ]
  },
  {
   "cell_type": "code",
   "execution_count": null,
   "id": "cd8c27bb",
   "metadata": {},
   "outputs": [],
   "source": [
    "from tqdm import tqdm\n",
    "\n",
    "for name, interactions in tqdm(compressed_interactions.items()):\n",
    "    if name in results_dict:\n",
    "        page_id = results_dict[name]['id']\n",
    "        patch_page_last_connected(page_id, compressed_interactions[name]['last_interaction'])\n",
    "        patch_page_days_interacted_lately(page_id, compressed_interactions[name]['num_interaction_days'])"
   ]
  }
 ],
 "metadata": {
  "kernelspec": {
   "display_name": "Python 3 (ipykernel)",
   "language": "python",
   "name": "python3"
  },
  "language_info": {
   "codemirror_mode": {
    "name": "ipython",
    "version": 3
   },
   "file_extension": ".py",
   "mimetype": "text/x-python",
   "name": "python",
   "nbconvert_exporter": "python",
   "pygments_lexer": "ipython3",
   "version": "3.9.0"
  }
 },
 "nbformat": 4,
 "nbformat_minor": 5
}
