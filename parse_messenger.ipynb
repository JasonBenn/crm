{
 "cells": [
  {
   "cell_type": "markdown",
   "metadata": {},
   "source": [
    "## Download Messenger data\n",
    "1. Go to https://www.facebook.com/dyi/?referrer=yfi_settings\n",
    "1. Select last 1 year, media quality low, format JSON\n",
    "1. \"Deselect all\", then select \"Messages\" and \"Comments and reactions\"\n",
    "1. Set a 15m reminder to check for data with Vitamin R\n",
    "1. Download data!\n",
    "1. Click to unzip it"
   ]
  },
  {
   "cell_type": "code",
   "execution_count": null,
   "metadata": {},
   "outputs": [],
   "source": [
    "!rm -rf ~/code/crm/facebook-jasoncbenn\n",
    "!mv ~/Downloads/facebook-jasoncbenn ~/code/crm/facebook-jasoncbenn"
   ]
  },
  {
   "cell_type": "markdown",
   "metadata": {},
   "source": [
    "## Download Twitter data"
   ]
  },
  {
   "cell_type": "code",
   "execution_count": 1,
   "metadata": {},
   "outputs": [
    {
     "ename": "JSONDecodeError",
     "evalue": "Expecting value: line 1 column 1 (char 0)",
     "traceback": [
      "\u001b[0;31m---------------------------------------------------------------------------\u001b[0m",
      "\u001b[0;31mJSONDecodeError\u001b[0m                           Traceback (most recent call last)",
      "\u001b[0;32m/var/folders/l2/qx7cpkf90qv1chf32yzxy9f40000gn/T/ipykernel_75310/3172683606.py\u001b[0m in \u001b[0;36m<module>\u001b[0;34m\u001b[0m\n\u001b[1;32m      1\u001b[0m \u001b[0;32mfrom\u001b[0m \u001b[0mtwitter_scraper\u001b[0m \u001b[0;32mimport\u001b[0m \u001b[0mget_tweets\u001b[0m\u001b[0;34m\u001b[0m\u001b[0;34m\u001b[0m\u001b[0m\n\u001b[1;32m      2\u001b[0m \u001b[0;34m\u001b[0m\u001b[0m\n\u001b[0;32m----> 3\u001b[0;31m \u001b[0;32mfor\u001b[0m \u001b[0mtweet\u001b[0m \u001b[0;32min\u001b[0m \u001b[0mget_tweets\u001b[0m\u001b[0;34m(\u001b[0m\u001b[0;34m'from:@zan2434'\u001b[0m\u001b[0;34m,\u001b[0m \u001b[0mpages\u001b[0m\u001b[0;34m=\u001b[0m\u001b[0;36m1\u001b[0m\u001b[0;34m)\u001b[0m\u001b[0;34m:\u001b[0m\u001b[0;34m\u001b[0m\u001b[0;34m\u001b[0m\u001b[0m\n\u001b[0m\u001b[1;32m      4\u001b[0m     \u001b[0mprint\u001b[0m\u001b[0;34m(\u001b[0m\u001b[0mtweet\u001b[0m\u001b[0;34m[\u001b[0m\u001b[0;34m'text'\u001b[0m\u001b[0;34m]\u001b[0m\u001b[0;34m)\u001b[0m\u001b[0;34m\u001b[0m\u001b[0;34m\u001b[0m\u001b[0m\n",
      "\u001b[0;32m~/.pyenv/versions/3.9.0/envs/crm/lib/python3.9/site-packages/twitter_scraper/modules/tweets.py\u001b[0m in \u001b[0;36mget_tweets\u001b[0;34m(query, pages)\u001b[0m\n\u001b[1;32m    168\u001b[0m             \u001b[0mpages\u001b[0m \u001b[0;34m+=\u001b[0m \u001b[0;34m-\u001b[0m\u001b[0;36m1\u001b[0m\u001b[0;34m\u001b[0m\u001b[0;34m\u001b[0m\u001b[0m\n\u001b[1;32m    169\u001b[0m \u001b[0;34m\u001b[0m\u001b[0m\n\u001b[0;32m--> 170\u001b[0;31m     \u001b[0;32myield\u001b[0m \u001b[0;32mfrom\u001b[0m \u001b[0mgen_tweets\u001b[0m\u001b[0;34m(\u001b[0m\u001b[0mpages\u001b[0m\u001b[0;34m)\u001b[0m\u001b[0;34m\u001b[0m\u001b[0;34m\u001b[0m\u001b[0m\n\u001b[0m\u001b[1;32m    171\u001b[0m \u001b[0;34m\u001b[0m\u001b[0m\n\u001b[1;32m    172\u001b[0m \u001b[0;34m\u001b[0m\u001b[0m\n",
      "\u001b[0;32m~/.pyenv/versions/3.9.0/envs/crm/lib/python3.9/site-packages/twitter_scraper/modules/tweets.py\u001b[0m in \u001b[0;36mgen_tweets\u001b[0;34m(pages)\u001b[0m\n\u001b[1;32m     35\u001b[0m             \u001b[0;32mtry\u001b[0m\u001b[0;34m:\u001b[0m\u001b[0;34m\u001b[0m\u001b[0;34m\u001b[0m\u001b[0m\n\u001b[1;32m     36\u001b[0m                 html = HTML(\n\u001b[0;32m---> 37\u001b[0;31m                     \u001b[0mhtml\u001b[0m\u001b[0;34m=\u001b[0m\u001b[0mr\u001b[0m\u001b[0;34m.\u001b[0m\u001b[0mjson\u001b[0m\u001b[0;34m(\u001b[0m\u001b[0;34m)\u001b[0m\u001b[0;34m[\u001b[0m\u001b[0;34m\"items_html\"\u001b[0m\u001b[0;34m]\u001b[0m\u001b[0;34m,\u001b[0m \u001b[0murl\u001b[0m\u001b[0;34m=\u001b[0m\u001b[0;34m\"bunk\"\u001b[0m\u001b[0;34m,\u001b[0m \u001b[0mdefault_encoding\u001b[0m\u001b[0;34m=\u001b[0m\u001b[0;34m\"utf-8\"\u001b[0m\u001b[0;34m\u001b[0m\u001b[0;34m\u001b[0m\u001b[0m\n\u001b[0m\u001b[1;32m     38\u001b[0m                 )\n\u001b[1;32m     39\u001b[0m             \u001b[0;32mexcept\u001b[0m \u001b[0mKeyError\u001b[0m\u001b[0;34m:\u001b[0m\u001b[0;34m\u001b[0m\u001b[0;34m\u001b[0m\u001b[0m\n",
      "\u001b[0;32m~/.pyenv/versions/3.9.0/envs/crm/lib/python3.9/site-packages/requests/models.py\u001b[0m in \u001b[0;36mjson\u001b[0;34m(self, **kwargs)\u001b[0m\n\u001b[1;32m    908\u001b[0m                     \u001b[0;31m# used.\u001b[0m\u001b[0;34m\u001b[0m\u001b[0;34m\u001b[0m\u001b[0;34m\u001b[0m\u001b[0m\n\u001b[1;32m    909\u001b[0m                     \u001b[0;32mpass\u001b[0m\u001b[0;34m\u001b[0m\u001b[0;34m\u001b[0m\u001b[0m\n\u001b[0;32m--> 910\u001b[0;31m         \u001b[0;32mreturn\u001b[0m \u001b[0mcomplexjson\u001b[0m\u001b[0;34m.\u001b[0m\u001b[0mloads\u001b[0m\u001b[0;34m(\u001b[0m\u001b[0mself\u001b[0m\u001b[0;34m.\u001b[0m\u001b[0mtext\u001b[0m\u001b[0;34m,\u001b[0m \u001b[0;34m**\u001b[0m\u001b[0mkwargs\u001b[0m\u001b[0;34m)\u001b[0m\u001b[0;34m\u001b[0m\u001b[0;34m\u001b[0m\u001b[0m\n\u001b[0m\u001b[1;32m    911\u001b[0m \u001b[0;34m\u001b[0m\u001b[0m\n\u001b[1;32m    912\u001b[0m     \u001b[0;34m@\u001b[0m\u001b[0mproperty\u001b[0m\u001b[0;34m\u001b[0m\u001b[0;34m\u001b[0m\u001b[0m\n",
      "\u001b[0;32m~/.pyenv/versions/3.9.0/lib/python3.9/json/__init__.py\u001b[0m in \u001b[0;36mloads\u001b[0;34m(s, cls, object_hook, parse_float, parse_int, parse_constant, object_pairs_hook, **kw)\u001b[0m\n\u001b[1;32m    344\u001b[0m             \u001b[0mparse_int\u001b[0m \u001b[0;32mis\u001b[0m \u001b[0;32mNone\u001b[0m \u001b[0;32mand\u001b[0m \u001b[0mparse_float\u001b[0m \u001b[0;32mis\u001b[0m \u001b[0;32mNone\u001b[0m \u001b[0;32mand\u001b[0m\u001b[0;34m\u001b[0m\u001b[0;34m\u001b[0m\u001b[0m\n\u001b[1;32m    345\u001b[0m             parse_constant is None and object_pairs_hook is None and not kw):\n\u001b[0;32m--> 346\u001b[0;31m         \u001b[0;32mreturn\u001b[0m \u001b[0m_default_decoder\u001b[0m\u001b[0;34m.\u001b[0m\u001b[0mdecode\u001b[0m\u001b[0;34m(\u001b[0m\u001b[0ms\u001b[0m\u001b[0;34m)\u001b[0m\u001b[0;34m\u001b[0m\u001b[0;34m\u001b[0m\u001b[0m\n\u001b[0m\u001b[1;32m    347\u001b[0m     \u001b[0;32mif\u001b[0m \u001b[0mcls\u001b[0m \u001b[0;32mis\u001b[0m \u001b[0;32mNone\u001b[0m\u001b[0;34m:\u001b[0m\u001b[0;34m\u001b[0m\u001b[0;34m\u001b[0m\u001b[0m\n\u001b[1;32m    348\u001b[0m         \u001b[0mcls\u001b[0m \u001b[0;34m=\u001b[0m \u001b[0mJSONDecoder\u001b[0m\u001b[0;34m\u001b[0m\u001b[0;34m\u001b[0m\u001b[0m\n",
      "\u001b[0;32m~/.pyenv/versions/3.9.0/lib/python3.9/json/decoder.py\u001b[0m in \u001b[0;36mdecode\u001b[0;34m(self, s, _w)\u001b[0m\n\u001b[1;32m    335\u001b[0m \u001b[0;34m\u001b[0m\u001b[0m\n\u001b[1;32m    336\u001b[0m         \"\"\"\n\u001b[0;32m--> 337\u001b[0;31m         \u001b[0mobj\u001b[0m\u001b[0;34m,\u001b[0m \u001b[0mend\u001b[0m \u001b[0;34m=\u001b[0m \u001b[0mself\u001b[0m\u001b[0;34m.\u001b[0m\u001b[0mraw_decode\u001b[0m\u001b[0;34m(\u001b[0m\u001b[0ms\u001b[0m\u001b[0;34m,\u001b[0m \u001b[0midx\u001b[0m\u001b[0;34m=\u001b[0m\u001b[0m_w\u001b[0m\u001b[0;34m(\u001b[0m\u001b[0ms\u001b[0m\u001b[0;34m,\u001b[0m \u001b[0;36m0\u001b[0m\u001b[0;34m)\u001b[0m\u001b[0;34m.\u001b[0m\u001b[0mend\u001b[0m\u001b[0;34m(\u001b[0m\u001b[0;34m)\u001b[0m\u001b[0;34m)\u001b[0m\u001b[0;34m\u001b[0m\u001b[0;34m\u001b[0m\u001b[0m\n\u001b[0m\u001b[1;32m    338\u001b[0m         \u001b[0mend\u001b[0m \u001b[0;34m=\u001b[0m \u001b[0m_w\u001b[0m\u001b[0;34m(\u001b[0m\u001b[0ms\u001b[0m\u001b[0;34m,\u001b[0m \u001b[0mend\u001b[0m\u001b[0;34m)\u001b[0m\u001b[0;34m.\u001b[0m\u001b[0mend\u001b[0m\u001b[0;34m(\u001b[0m\u001b[0;34m)\u001b[0m\u001b[0;34m\u001b[0m\u001b[0;34m\u001b[0m\u001b[0m\n\u001b[1;32m    339\u001b[0m         \u001b[0;32mif\u001b[0m \u001b[0mend\u001b[0m \u001b[0;34m!=\u001b[0m \u001b[0mlen\u001b[0m\u001b[0;34m(\u001b[0m\u001b[0ms\u001b[0m\u001b[0;34m)\u001b[0m\u001b[0;34m:\u001b[0m\u001b[0;34m\u001b[0m\u001b[0;34m\u001b[0m\u001b[0m\n",
      "\u001b[0;32m~/.pyenv/versions/3.9.0/lib/python3.9/json/decoder.py\u001b[0m in \u001b[0;36mraw_decode\u001b[0;34m(self, s, idx)\u001b[0m\n\u001b[1;32m    353\u001b[0m             \u001b[0mobj\u001b[0m\u001b[0;34m,\u001b[0m \u001b[0mend\u001b[0m \u001b[0;34m=\u001b[0m \u001b[0mself\u001b[0m\u001b[0;34m.\u001b[0m\u001b[0mscan_once\u001b[0m\u001b[0;34m(\u001b[0m\u001b[0ms\u001b[0m\u001b[0;34m,\u001b[0m \u001b[0midx\u001b[0m\u001b[0;34m)\u001b[0m\u001b[0;34m\u001b[0m\u001b[0;34m\u001b[0m\u001b[0m\n\u001b[1;32m    354\u001b[0m         \u001b[0;32mexcept\u001b[0m \u001b[0mStopIteration\u001b[0m \u001b[0;32mas\u001b[0m \u001b[0merr\u001b[0m\u001b[0;34m:\u001b[0m\u001b[0;34m\u001b[0m\u001b[0;34m\u001b[0m\u001b[0m\n\u001b[0;32m--> 355\u001b[0;31m             \u001b[0;32mraise\u001b[0m \u001b[0mJSONDecodeError\u001b[0m\u001b[0;34m(\u001b[0m\u001b[0;34m\"Expecting value\"\u001b[0m\u001b[0;34m,\u001b[0m \u001b[0ms\u001b[0m\u001b[0;34m,\u001b[0m \u001b[0merr\u001b[0m\u001b[0;34m.\u001b[0m\u001b[0mvalue\u001b[0m\u001b[0;34m)\u001b[0m \u001b[0;32mfrom\u001b[0m \u001b[0;32mNone\u001b[0m\u001b[0;34m\u001b[0m\u001b[0;34m\u001b[0m\u001b[0m\n\u001b[0m\u001b[1;32m    356\u001b[0m         \u001b[0;32mreturn\u001b[0m \u001b[0mobj\u001b[0m\u001b[0;34m,\u001b[0m \u001b[0mend\u001b[0m\u001b[0;34m\u001b[0m\u001b[0;34m\u001b[0m\u001b[0m\n",
      "\u001b[0;31mJSONDecodeError\u001b[0m: Expecting value: line 1 column 1 (char 0)"
     ],
     "output_type": "error"
    }
   ],
   "source": [
    "from twitter_scraper import get_tweets\n",
    "\n",
    "for tweet in get_tweets('from:@zan2434', pages=1):\n",
    "    print(tweet['text'])"
   ]
  },
  {
   "cell_type": "markdown",
   "metadata": {},
   "source": [
    "## Parse Messenger inbox"
   ]
  },
  {
   "cell_type": "code",
   "execution_count": null,
   "metadata": {},
   "outputs": [],
   "source": [
    "from datetime import datetime\n",
    "import glob\n",
    "import json"
   ]
  },
  {
   "cell_type": "code",
   "execution_count": null,
   "metadata": {},
   "outputs": [],
   "source": [
    "def parse_datetime(dt: int) -> datetime:\n",
    "    return datetime.fromtimestamp(dt)\n",
    "\n",
    "def parse_datetime_ms(dt: int) -> datetime:\n",
    "    return datetime.fromtimestamp(dt / 1e3)"
   ]
  },
  {
   "cell_type": "code",
   "execution_count": null,
   "metadata": {},
   "outputs": [],
   "source": [
    "chats = glob.glob(\"facebook-jasoncbenn/messages/inbox/*/*.json\")"
   ]
  },
  {
   "cell_type": "code",
   "execution_count": null,
   "metadata": {
    "scrolled": true
   },
   "outputs": [],
   "source": [
    "from datetime import timedelta\n",
    "import unidecode\n",
    "from collections import defaultdict\n",
    "\n",
    "MY_NAME = 'Jason Benn'\n",
    "\n",
    "interactions = defaultdict(set)\n",
    "\n",
    "for chat_json_path in chats:\n",
    "    with open(chat_json_path, encoding='raw_unicode_escape') as f:\n",
    "        chat = json.loads(f.read().encode('raw_unicode_escape').decode())\n",
    "\n",
    "    others = [x['name'] for x in chat['participants'] if x['name'] != MY_NAME]\n",
    "\n",
    "    my_messages = [x for x in chat['messages'] if x['sender_name'] == MY_NAME]\n",
    "\n",
    "    if not len(my_messages):\n",
    "        continue \n",
    "\n",
    "    last_message_time = None\n",
    "\n",
    "    is_groupchat = len(others) > 1\n",
    "\n",
    "    if is_groupchat:\n",
    "        # Creative technique: anytime I message the group, I get \"credit\" for all messages within 2 days\n",
    "        # Goal is to account for groups where I'm active + others are active - those feel like touches\n",
    "        # But many other groups are too big, too sparse, not mine, etc. Those don't count.\n",
    "        for message in reversed(chat['messages']):\n",
    "            msg_time = parse_datetime_ms(message['timestamp_ms'])\n",
    "            msg_name = unidecode.unidecode(message['sender_name'])\n",
    "            if msg_name == MY_NAME:\n",
    "                last_message_time = msg_time\n",
    "                continue\n",
    "\n",
    "            if last_message_time and last_message_time + timedelta(days=2) > msg_time:\n",
    "                interactions[msg_name].add(msg_time.date())\n",
    "\n",
    "    else:\n",
    "        # If this is 1:1, just count every unique day of any message.\n",
    "        for message in chat['messages']:\n",
    "            msg_time = parse_datetime_ms(message['timestamp_ms'])\n",
    "            msg_name = unidecode.unidecode(message['sender_name'])\n",
    "            if msg_name == MY_NAME:\n",
    "                continue\n",
    "            interactions[msg_name].add(msg_time.date())"
   ]
  },
  {
   "cell_type": "markdown",
   "metadata": {},
   "source": [
    "## Parse FB comments on other posts"
   ]
  },
  {
   "cell_type": "code",
   "execution_count": null,
   "metadata": {},
   "outputs": [],
   "source": [
    "import re"
   ]
  },
  {
   "cell_type": "code",
   "execution_count": null,
   "metadata": {},
   "outputs": [],
   "source": [
    "with open(\"facebook-jasoncbenn/comments_and_reactions/comments.json\", encoding='raw_unicode_escape') as f:\n",
    "    comments = json.loads(f.read().encode('raw_unicode_escape').decode())"
   ]
  },
  {
   "cell_type": "code",
   "execution_count": null,
   "metadata": {},
   "outputs": [],
   "source": [
    "for comment in comments['comments_v2']:\n",
    "    comment_time = parse_datetime(comment['timestamp'])\n",
    "\n",
    "    name = None\n",
    "    \n",
    "    if match := re.match(\"Jason Benn (replied to|commented on) his own (photo|post|comment|video|GIF).\", comment['title']):\n",
    "        continue\n",
    "    \n",
    "    if match := re.match(\"Jason Benn (replied to|commented on) ([\\w -]+)'s (photo|post|comment|video|GIF).\", comment['title']):\n",
    "        name = unidecode.unidecode(match.group(2))\n",
    "    \n",
    "    if not name:\n",
    "        raise Exception(f\"case not handled: {comment['title']}\")\n",
    "    \n",
    "    interactions[name].add(comment_time.date())"
   ]
  },
  {
   "cell_type": "markdown",
   "metadata": {},
   "source": [
    "## Compress info for Notion"
   ]
  },
  {
   "cell_type": "code",
   "execution_count": null,
   "metadata": {
    "scrolled": true
   },
   "outputs": [],
   "source": [
    "compressed_interactions = {}\n",
    "for name, touches in interactions.items():\n",
    "    compressed_interactions[name] = {'last_interaction': max(touches), 'num_interaction_days': len(touches)}\n",
    "\n",
    "print(sorted(compressed_interactions.items(), key=lambda x: -x[1]['num_interaction_days'])[:3])\n",
    "print(max(compressed_interactions.values(), key=lambda x: x['last_interaction']))"
   ]
  },
  {
   "cell_type": "markdown",
   "metadata": {},
   "source": [
    "## Download from Notion"
   ]
  },
  {
   "cell_type": "code",
   "execution_count": null,
   "metadata": {},
   "outputs": [],
   "source": [
    "import requests"
   ]
  },
  {
   "cell_type": "code",
   "execution_count": null,
   "metadata": {},
   "outputs": [],
   "source": [
    "import os\n",
    "from dotenv import load_dotenv\n",
    "\n",
    "load_dotenv()\n",
    "NOTION_SECRET = os.getenv('NOTION_SECRET')\n",
    "DB_ID = os.getenv('DATABASE_ID')"
   ]
  },
  {
   "cell_type": "code",
   "execution_count": null,
   "metadata": {},
   "outputs": [],
   "source": [
    "headers = {'Authorization': f'Bearer {NOTION_SECRET}', 'Notion-Version': '2021-08-16', 'Content-Type': 'application/json'}"
   ]
  },
  {
   "cell_type": "code",
   "execution_count": null,
   "metadata": {
    "scrolled": true
   },
   "outputs": [],
   "source": [
    "from typing import Optional\n",
    "\n",
    "def list_db(cursor: Optional[str]):\n",
    "    data = {\n",
    "      \"sorts\": [\n",
    "        {\n",
    "          \"property\": \"Name\",\n",
    "          \"direction\": \"ascending\"\n",
    "        }\n",
    "      ],\n",
    "      \"page_size\": 100\n",
    "    }\n",
    "    if cursor:\n",
    "        data['start_cursor'] = cursor\n",
    "    response = requests.post(f\"https://api.notion.com/v1/databases/{DB_ID}/query\", headers=headers, data=json.dumps(data))\n",
    "    response.raise_for_status()\n",
    "    return json.loads(response.text)"
   ]
  },
  {
   "cell_type": "code",
   "execution_count": null,
   "metadata": {},
   "outputs": [],
   "source": [
    "pages = list_db(None)\n",
    "all_pages = pages['results']\n",
    "\n",
    "while pages['has_more']:\n",
    "    print(pages['next_cursor'])\n",
    "    cursor = pages['next_cursor'] # '8fefddc1-0cb6-4f66-bb07-448073cde34b',\n",
    "    pages = list_db(cursor)\n",
    "    all_pages.extend(pages['results'])\n",
    "\n",
    "print(len(all_pages))"
   ]
  },
  {
   "cell_type": "code",
   "execution_count": null,
   "metadata": {},
   "outputs": [],
   "source": [
    "people_in_notion = {x['properties']['Name']['title'][0]['text']['content']: x for x in all_pages}"
   ]
  },
  {
   "cell_type": "code",
   "execution_count": null,
   "metadata": {},
   "outputs": [],
   "source": [
    "print(len(people_in_notion))"
   ]
  },
  {
   "cell_type": "markdown",
   "metadata": {},
   "source": [
    "## Reconcile people with different names"
   ]
  },
  {
   "cell_type": "code",
   "execution_count": null,
   "metadata": {},
   "outputs": [],
   "source": [
    "names_in_notion = set(people_in_notion.keys())\n",
    "names_interacted = set(compressed_interactions.keys())\n",
    "print(len(names_in_notion), len(names_interacted))\n",
    "print(len(names_in_notion - names_interacted), len(names_interacted - names_in_notion))"
   ]
  },
  {
   "cell_type": "code",
   "execution_count": null,
   "metadata": {},
   "outputs": [],
   "source": [
    "# fb\n",
    "#  \"Jimmy 'Swift' Chen\",\n",
    "#  'Patricia \"Patty\" Mou',\n",
    "\n",
    "#  'Jeremy Omni Genesis Nixon',\n",
    "#  'Matthew P. McAteer',\n",
    "#  'Mingzhu Hešeri',\n",
    "#  'Norian Caporale-Berkowitz',\n"
   ]
  },
  {
   "cell_type": "code",
   "execution_count": null,
   "metadata": {},
   "outputs": [],
   "source": [
    "# notion\n",
    "#  \"Ian's friend Diana & husband Jamie\",\n",
    "#  'Ricky (Chef)',\n",
    "#  \"Tyler (F), Laura's roomie that wrote Buttigieg speeches\",\n",
    "#  'Wes & Marie',\n"
   ]
  },
  {
   "cell_type": "markdown",
   "metadata": {},
   "source": [
    "## Write pages for Logseq"
   ]
  },
  {
   "cell_type": "code",
   "execution_count": null,
   "metadata": {},
   "outputs": [],
   "source": [
    "crm_file = \"- [[\" + \"]]\\n- [[\".join(sorted(names_in_notion)) + \"]]\""
   ]
  },
  {
   "cell_type": "code",
   "execution_count": null,
   "metadata": {},
   "outputs": [],
   "source": [
    "open(\"/Users/jasonbenn/notes/pages/CRM.md\", \"w\").write(crm_file)"
   ]
  },
  {
   "cell_type": "markdown",
   "metadata": {},
   "source": [
    "Click Notes -> \"Re-index\""
   ]
  },
  {
   "cell_type": "markdown",
   "metadata": {},
   "source": [
    "## Send to Notion"
   ]
  },
  {
   "cell_type": "code",
   "execution_count": null,
   "metadata": {
    "scrolled": true
   },
   "outputs": [],
   "source": [
    "def get_table_metadata():\n",
    "    response = requests.get(f\"https://api.notion.com/v1/databases/{DB_ID}\", headers=headers)\n",
    "    return json.loads(response.text)\n",
    "# sorted(table_metadata['properties'].keys())"
   ]
  },
  {
   "cell_type": "code",
   "execution_count": null,
   "metadata": {},
   "outputs": [],
   "source": [
    "def date_iso_format(date):\n",
    "    return datetime.combine(date, datetime.min.time()).isoformat()"
   ]
  },
  {
   "cell_type": "code",
   "execution_count": null,
   "metadata": {},
   "outputs": [],
   "source": [
    "def patch_page_last_connected(page_id, dt):\n",
    "    data = {'properties': \n",
    "        {\n",
    "         'Last connected': {'date': {'start': date_iso_format(dt), 'end': None}},\n",
    "        }\n",
    "       }\n",
    "    response = requests.patch(f\"https://api.notion.com/v1/pages/{page_id}\", headers=headers, data=json.dumps(data))\n",
    "    response.raise_for_status()\n",
    "    return response"
   ]
  },
  {
   "cell_type": "code",
   "execution_count": null,
   "metadata": {},
   "outputs": [],
   "source": [
    "def patch_page_days_interacted_lately(page_id, days_interacted_lately):\n",
    "    data = {'properties': \n",
    "        {\n",
    "          'Days interacted lately': days_interacted_lately\n",
    "        }\n",
    "       }\n",
    "    response = requests.patch(f\"https://api.notion.com/v1/pages/{page_id}\", headers=headers, data=json.dumps(data))\n",
    "    response.raise_for_status()\n",
    "    return response"
   ]
  },
  {
   "cell_type": "code",
   "execution_count": null,
   "metadata": {},
   "outputs": [],
   "source": [
    "# for name, interactions in compressed_interactions.items():\n",
    "#     if name in results_dict:\n",
    "#         print(f\"found {name}\")\n",
    "#     else:\n",
    "#         print(f\"nope  {name}\")"
   ]
  },
  {
   "cell_type": "code",
   "execution_count": null,
   "metadata": {},
   "outputs": [],
   "source": [
    "from tqdm import tqdm\n",
    "\n",
    "interacted_but_not_in_notion = []\n",
    "for name, touches in tqdm(compressed_interactions.items()):\n",
    "    if name in people_in_notion:\n",
    "        page_id = people_in_notion[name]['id']\n",
    "        patch_page_last_connected(page_id, touches['last_interaction'])\n",
    "        patch_page_days_interacted_lately(page_id, touches['num_interaction_days'])\n",
    "    else:\n",
    "        interacted_but_not_in_notion.append(name)"
   ]
  },
  {
   "cell_type": "markdown",
   "metadata": {},
   "source": [
    "## Update Acquaintances Page"
   ]
  },
  {
   "cell_type": "code",
   "execution_count": null,
   "metadata": {},
   "outputs": [],
   "source": [
    "def notion_retrieve_block_children(block_id, cursor = None):\n",
    "    url = f\"https://api.notion.com/v1/blocks/{block_id}/children\"\n",
    "    if cursor is not None:\n",
    "        url += f\"?start_cursor={cursor}\"\n",
    "    response = requests.get(url, headers=headers)\n",
    "    response.raise_for_status()\n",
    "    return json.loads(response.text)"
   ]
  },
  {
   "cell_type": "code",
   "execution_count": null,
   "metadata": {},
   "outputs": [],
   "source": [
    "acquaintances_id = \"d1ac5a638f784ca1ac96fc9509cf962c\"\n",
    "page_blocks = notion_retrieve_block_children(acquaintances_id)\n",
    "\n",
    "all_blocks = page_blocks['results']\n",
    "while page_blocks['has_more']:\n",
    "    print(page_blocks['next_cursor'])\n",
    "    cursor = page_blocks['next_cursor'] # '8fefddc1-0cb6-4f66-bb07-448073cde34b',\n",
    "    page_blocks = notion_retrieve_block_children(acquaintances_id, cursor)\n",
    "    all_blocks.extend(page_blocks['results'])"
   ]
  },
  {
   "cell_type": "code",
   "execution_count": null,
   "metadata": {},
   "outputs": [],
   "source": [
    "existing_acqs = set(x['paragraph']['text'][0]['text']['content'] for x in all_blocks)\n",
    "new_acqs = sorted(set(interacted_but_not_in_notion) - existing_acqs)\n",
    "print(\"Should any of these recently interacted folks become FRIENDS?!\")\n",
    "print(new_acqs)"
   ]
  },
  {
   "cell_type": "code",
   "execution_count": null,
   "metadata": {},
   "outputs": [],
   "source": [
    "def append_block_children(children):\n",
    "    data = {'children': [\n",
    "\t\t{\n",
    "\t\t\t\"object\": \"block\",\n",
    "\t\t\t\"type\": \"paragraph\",\n",
    "\t\t\t\"paragraph\": {\n",
    "\t\t\t\t\"text\": [\n",
    "\t\t\t\t\t{\n",
    "\t\t\t\t\t\t\"type\": \"text\",\n",
    "\t\t\t\t\t\t\"text\": {\n",
    "\t\t\t\t\t\t\t\"content\": x,\n",
    "\t\t\t\t\t\t}\n",
    "\t\t\t\t\t}\n",
    "\t\t\t\t]\n",
    "\t\t\t}\n",
    "\t\t}\n",
    "\t for x in children]\n",
    "    }\n",
    "    response = requests.patch(f\"https://api.notion.com/v1/blocks/{acquaintances_id}/children\", headers=headers, data=json.dumps(data))\n",
    "    response.raise_for_status()\n",
    "    return response"
   ]
  },
  {
   "cell_type": "code",
   "execution_count": null,
   "metadata": {},
   "outputs": [],
   "source": [
    "append_block_children(new_acqs)"
   ]
  }
 ],
 "metadata": {
  "kernelspec": {
   "display_name": "Python 3 (ipykernel)",
   "language": "python",
   "name": "python3"
  },
  "language_info": {
   "codemirror_mode": {
    "name": "ipython",
    "version": 3
   },
   "file_extension": ".py",
   "mimetype": "text/x-python",
   "name": "python",
   "nbconvert_exporter": "python",
   "pygments_lexer": "ipython3",
   "version": "3.9.0"
  }
 },
 "nbformat": 4,
 "nbformat_minor": 5
}
