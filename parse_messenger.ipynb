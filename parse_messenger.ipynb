{
 "cells": [
  {
   "cell_type": "markdown",
   "id": "7c84bae1",
   "metadata": {},
   "source": [
    "## Parse Messenger inbox"
   ]
  },
  {
   "cell_type": "code",
   "execution_count": null,
   "id": "c143098f",
   "metadata": {},
   "outputs": [],
   "source": [
    "from datetime import datetime\n",
    "import glob\n",
    "import json"
   ]
  },
  {
   "cell_type": "code",
   "execution_count": null,
   "id": "db9cea2b",
   "metadata": {},
   "outputs": [],
   "source": [
    "chats = glob.glob(\"facebook-jasoncbenn/messages/inbox/*/*.json\")"
   ]
  },
  {
   "cell_type": "code",
   "execution_count": null,
   "id": "c8c09da8",
   "metadata": {
    "scrolled": true
   },
   "outputs": [],
   "source": [
    "from datetime import timedelta\n",
    "import unidecode\n",
    "from collections import defaultdict\n",
    "\n",
    "MY_NAME = 'Jason Benn'\n",
    "\n",
    "interactions = defaultdict(lambda: {'interaction_days': set()})\n",
    "\n",
    "def parse_datetime(dt: int) -> datetime:\n",
    "    return datetime.fromtimestamp(dt / 1e3)\n",
    "\n",
    "for chat_json_path in chats:\n",
    "    with open(chat_json_path, encoding='raw_unicode_escape') as f:\n",
    "        chat = json.loads(f.read().encode('raw_unicode_escape').decode())\n",
    "\n",
    "    others = [x['name'] for x in chat['participants'] if x['name'] != MY_NAME]\n",
    "\n",
    "    my_messages = [x for x in chat['messages'] if x['sender_name'] == MY_NAME]\n",
    "\n",
    "    if not len(my_messages):\n",
    "        continue \n",
    "\n",
    "    last_message_time = None\n",
    "\n",
    "    is_groupchat = len(others) > 1\n",
    "\n",
    "    if is_groupchat:\n",
    "        # Creative technique: anytime I message the group, I get \"credit\" for all messages within 2 days\n",
    "        # Goal is to account for groups where I'm active + others are active - those feel like touches\n",
    "        # But many other groups are too big, too sparse, not mine, etc. Those don't count.\n",
    "        for message in reversed(chat['messages']):\n",
    "            msg_time = parse_datetime(message['timestamp_ms'])\n",
    "            msg_name = unidecode.unidecode(message['sender_name'])\n",
    "            if msg_name == MY_NAME:\n",
    "                last_message_time = msg_time\n",
    "                continue\n",
    "\n",
    "            if last_message_time and last_message_time + timedelta(days=2) > msg_time:\n",
    "                interactions[msg_name]['interaction_days'].add(msg_time.date())\n",
    "\n",
    "    else:\n",
    "        # If this is 1:1, just count every unique day of any message.\n",
    "        for message in chat['messages']:\n",
    "            msg_time = parse_datetime(message['timestamp_ms'])\n",
    "            msg_name = unidecode.unidecode(message['sender_name'])\n",
    "            if msg_name == MY_NAME:\n",
    "                continue\n",
    "            interactions[msg_name]['interaction_days'].add(msg_time.date())"
   ]
  },
  {
   "cell_type": "code",
   "execution_count": null,
   "id": "b77073d0",
   "metadata": {
    "scrolled": false
   },
   "outputs": [],
   "source": [
    "compressed_interactions = {}\n",
    "for name, touches in interactions.items():\n",
    "    compressed_interactions[name] = {'last_interaction': max(touches['interaction_days']), 'num_interaction_days': len(touches['interaction_days'])}\n",
    "\n",
    "sorted(compressed_interactions.items(), key=lambda x: -x[1]['num_interaction_days'])"
   ]
  },
  {
   "cell_type": "markdown",
   "id": "8bc12460",
   "metadata": {},
   "source": [
    "## Send to Notion"
   ]
  },
  {
   "cell_type": "code",
   "execution_count": null,
   "id": "ef24fb18",
   "metadata": {},
   "outputs": [],
   "source": []
  }
 ],
 "metadata": {
  "kernelspec": {
   "display_name": "Python 3 (ipykernel)",
   "language": "python",
   "name": "python3"
  },
  "language_info": {
   "codemirror_mode": {
    "name": "ipython",
    "version": 3
   },
   "file_extension": ".py",
   "mimetype": "text/x-python",
   "name": "python",
   "nbconvert_exporter": "python",
   "pygments_lexer": "ipython3",
   "version": "3.9.0"
  }
 },
 "nbformat": 4,
 "nbformat_minor": 5
}
